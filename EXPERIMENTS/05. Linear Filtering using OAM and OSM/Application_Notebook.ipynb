{
  "nbformat": 4,
  "nbformat_minor": 0,
  "metadata": {
    "colab": {
      "provenance": []
    },
    "kernelspec": {
      "name": "python3",
      "display_name": "Python 3"
    },
    "language_info": {
      "name": "python"
    }
  },
  "cells": [
    {
      "cell_type": "code",
      "execution_count": null,
      "metadata": {
        "id": "JZBEwvhOjqvd"
      },
      "outputs": [],
      "source": [
        "\n",
        "import numpy as np\n",
        "from scipy.io import wavfile\n",
        "from scipy.signal import firwin, lfilter\n",
        "import matplotlib.pyplot as plt\n",
        "\n",
        "# Function to filter audio signal\n",
        "def apply_filter(audio_signal, filter_coefficients):\n",
        "    filtered_signal = lfilter(filter_coefficients, 1.0, audio_signal)\n",
        "    return filtered_signal\n",
        "\n",
        "# Step 1: Record Audio in the presence of noise with Fs = 8000 Hz ==> x[n]\n",
        "sample_rate, audio_signal = wavfile.read('test.wav')\n",
        "\n",
        "# Step 2: Play the recorded signal x[n] and observe the quality of sound.\n",
        "plt.plot(audio_signal)\n",
        "plt.title('Original Audio Signal')\n",
        "plt.xlabel('Sample Index')\n",
        "plt.ylabel('Amplitude')\n",
        "plt.show()\n",
        "\n",
        "# Step 3: Design FIR Low Pass Filter using MATLAB filter design Tool.\n",
        "# Take Fpass = 2000Hz, Fstop = 3000Hz, Fs = 8000\n",
        "Fpass = 2000  # Passband frequency in Hz\n",
        "Fstop = 3000  # Stopband frequency in Hz\n",
        "Fs = sample_rate  # Sampling frequency\n",
        "filter_order = 101  # Adjust the filter order as needed\n",
        "\n",
        "# Design FIR Low Pass Filter\n",
        "filter_coefficients = firwin(filter_order, cutoff=Fpass, fs=Fs, pass_zero=True)\n",
        "\n",
        "# Step 4: Filter the audio signal x[n]\n",
        "filtered_signal = apply_filter(audio_signal, filter_coefficients)\n",
        "\n",
        "# Save the filtered audio signal to a file\n",
        "wavfile.write('file1.wav', sample_rate, np.int16(filtered_signal))\n",
        "\n",
        "# Display a plot of the original and filtered signals\n",
        "plt.plot(audio_signal, label='Original Signal')\n",
        "plt.plot(filtered_signal, label='Filtered Signal')\n",
        "plt.title('Audio Signal Filtering')\n",
        "plt.xlabel('Sample Index')\n",
        "plt.ylabel('Amplitude')\n",
        "plt.legend()\n",
        "plt.show()\n",
        "\n",
        "# Download the filtered audio file\n",
        "from google.colab import files\n",
        "files.download('file1.wav')\n"
      ]
    }
  ]
}