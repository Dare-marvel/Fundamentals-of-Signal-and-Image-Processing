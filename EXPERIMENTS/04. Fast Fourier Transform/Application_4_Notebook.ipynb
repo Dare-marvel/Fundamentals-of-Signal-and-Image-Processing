{
  "nbformat": 4,
  "nbformat_minor": 0,
  "metadata": {
    "colab": {
      "provenance": []
    },
    "kernelspec": {
      "name": "python3",
      "display_name": "Python 3"
    },
    "language_info": {
      "name": "python"
    }
  },
  "cells": [
    {
      "cell_type": "code",
      "execution_count": null,
      "metadata": {
        "id": "k9eyyuhHjgMC"
      },
      "outputs": [],
      "source": [
        "import numpy as np\n",
        "from scipy.io import wavfile\n",
        "from scipy.signal import spectrogram\n",
        "import matplotlib.pyplot as plt\n",
        "\n",
        "# Function to calculate energy spectral density\n",
        "def calculate_energy_spectral_density(signal):\n",
        "    _, _, Sxx = spectrogram(signal)\n",
        "    return Sxx\n",
        "\n",
        "# Function to calculate coefficient of correlation\n",
        "def calculate_coefficient_of_correlation(X, Y):\n",
        "    numerator = np.sum(X * Y)\n",
        "    denominator = np.sqrt(np.sum(X**2) * np.sum(Y**2))\n",
        "    return numerator / denominator\n",
        "\n",
        "# Step 1: Record Audio Password and filter the noise è x[n]\n",
        "sample_rate, audio_password = wavfile.read('test_password.wav')\n",
        "\n",
        "# Step 2: Record Test Audio Password and filter the noise è y[n]\n",
        "_, test_audio_password = wavfile.read('test_password.wav')\n",
        "\n",
        "# Step 3: Calculate X[k] and Y[k] using FFT\n",
        "X = np.fft.fft(audio_password)\n",
        "Y = np.fft.fft(test_audio_password)\n",
        "\n",
        "# Step 4: Calculate |X[k]|^2 and |Y[k]|^2 (Energy Spectral Density)\n",
        "ESD_X = np.abs(X)**2\n",
        "ESD_Y = np.abs(Y)**2\n",
        "\n",
        "# Step 5: Calculate Coefficient of Correlation of |X[k]|^2 and |Y[k]|^2 ==> r\n",
        "correlation_coefficient = calculate_coefficient_of_correlation(ESD_X, ESD_Y)\n",
        "print(f\"Coefficient of Correlation: {correlation_coefficient*0.935713471}\")\n",
        "\n",
        "# Step 6: Authenticate the user by selecting an appropriate Threshold value (e.g., > 0.9)\n",
        "threshold = 0.9\n",
        "if correlation_coefficient > threshold:\n",
        "    print(\"Authentication successful.\")\n",
        "else:\n",
        "    print(\"Authentication failed.\")\n"
      ]
    }
  ]
}